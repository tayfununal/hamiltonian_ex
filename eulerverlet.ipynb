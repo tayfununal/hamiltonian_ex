{
  "nbformat": 4,
  "nbformat_minor": 0,
  "metadata": {
    "colab": {
      "name": "eulerverlet.ipynb",
      "provenance": [],
      "collapsed_sections": [],
      "include_colab_link": true
    },
    "kernelspec": {
      "name": "python3",
      "display_name": "Python 3"
    },
    "language_info": {
      "name": "python"
    }
  },
  "cells": [
    {
      "cell_type": "markdown",
      "metadata": {
        "id": "view-in-github",
        "colab_type": "text"
      },
      "source": [
        "<a href=\"https://colab.research.google.com/github/tayfununal/hamiltonian_ex/blob/main/eulerverlet.ipynb\" target=\"_parent\"><img src=\"https://colab.research.google.com/assets/colab-badge.svg\" alt=\"Open In Colab\"/></a>"
      ]
    },
    {
      "cell_type": "code",
      "source": [
        "#simplektik euler\n",
        "import numpy as np\n",
        "import matplotlib.pyplot as plt\n",
        "\n",
        "plt.style.use('seaborn-poster')\n",
        "\n",
        "def symplectic_euler(h=0.5, initial_point= [1., 0.]):\n",
        "\n",
        "    t = np.arange(0, 2*np.pi, h)\n",
        "\n",
        "    q = np.zeros(t.shape[0])\n",
        "    p = np.zeros(t.shape[0])\n",
        "\n",
        "    q[0] = initial_point[0]\n",
        "    p[0] = initial_point[1]\n",
        "    \n",
        "    for i in range(0, t.shape[0]-1):\n",
        "      q[i + 1] = (1-h**2) * q[i] + h * p[i]\n",
        "      p[i + 1] = p[i] - h * q[i]\n",
        "\n",
        "    return q, p, t\n",
        "\n",
        "q , p, t = symplectic_euler()\n",
        "print(\"shape of q :\", q.shape ,\"\\nshape of p:\", p.shape, \"\\nsize of t:\", len(t))"
      ],
      "metadata": {
        "colab": {
          "base_uri": "https://localhost:8080/"
        },
        "id": "0J-nk2tQHHoW",
        "outputId": "024c36d7-50e3-4051-a2c6-b3682a999959"
      },
      "execution_count": 14,
      "outputs": [
        {
          "output_type": "stream",
          "name": "stdout",
          "text": [
            "shape of q : (13,) \n",
            "shape of p: (13,) \n",
            "size of t: 13\n"
          ]
        }
      ]
    },
    {
      "cell_type": "code",
      "source": [
        "def grand_truth_plot(h = 0.1):\n",
        "  t = np.arange(0,2*np.pi,0.3)\n",
        "  q = np.cos(t)\n",
        "  p = np.sin(t)\n",
        "  plt.scatter(q,p)\n",
        "\n",
        "def pred_plot(q, p):\n",
        "  plt.plot(q[:, ], p[:,], c = \"red\")\n",
        "  plt.xlabel('q')\n",
        "  plt.ylabel('p')"
      ],
      "metadata": {
        "id": "0_xYBSzhKGBI"
      },
      "execution_count": 15,
      "outputs": []
    },
    {
      "cell_type": "code",
      "source": [
        "plt.figure(figsize = (4, 4))\n",
        "\n",
        "# Simplectic solution plot\n",
        "pred_plot(q=q, p=p)\n",
        "\n",
        "# Grand truth solution plot\n",
        "grand_truth_plot()\n",
        "plt.show()"
      ],
      "metadata": {
        "colab": {
          "base_uri": "https://localhost:8080/",
          "height": 300
        },
        "id": "D_f4_cb-J247",
        "outputId": "079aa1b4-0df9-40db-f2d8-22d28dd3173c"
      },
      "execution_count": 16,
      "outputs": [
        {
          "output_type": "display_data",
          "data": {
            "text/plain": [
              "<Figure size 288x288 with 1 Axes>"
            ],
            "image/png": "[encoded data removed]"
          },
          "metadata": {
            "needs_background": "light"
          }
        }
      ]
    },
    {
      "cell_type": "code",
      "source": [
        "import tensorflow as tf\n",
        "from tensorflow.keras import Input, Model\n",
        "from tensorflow.keras.layers import Dense"
      ],
      "metadata": {
        "id": "Xb77ZjSuEIsp"
      },
      "execution_count": 17,
      "outputs": []
    },
    {
      "cell_type": "code",
      "source": [
        "target = np.concatenate((q.reshape(-1,1), p.reshape(-1,1)) , axis=1)\n",
        "\"\"\"\n",
        "shuffling = np.concatenate((target, t.reshape(-1,1)), axis=1)\n",
        "np.random.shuffle(shuffling)\n",
        "\n",
        "target = np.concatenate((shuffling[:,0].reshape(-1,1), shuffling[:,1].reshape(-1,1)), axis=1)\n",
        "t = shuffling[:,2]\n",
        "print('target:',target, '\\nt:',t)\n",
        "\"\"\""
      ],
      "metadata": {
        "colab": {
          "base_uri": "https://localhost:8080/",
          "height": 54
        },
        "id": "0Y25WCwXPN07",
        "outputId": "7557b1fd-5665-4711-a21d-729903b3aba9"
      },
      "execution_count": 18,
      "outputs": [
        {
          "output_type": "execute_result",
          "data": {
            "text/plain": [
              "\"shuffling = np.concatenate((target, t.reshape(-1,1)), axis=1)\\nnp.random.shuffle(shuffling)\\n\\ntarget = np.concatenate((shuffling[:,0].reshape(-1,1), shuffling[:,1].reshape(-1,1)), axis=1)\\nt = shuffling[:,2]\\nprint('target:',target, '\\nt:',t)\""
            ],
            "application/vnd.google.colaboratory.intrinsic+json": {
              "type": "string"
            }
          },
          "metadata": {},
          "execution_count": 18
        }
      ]
    },
    {
      "cell_type": "code",
      "source": [
        "inp = Input(shape=(1,))\n",
        "\n",
        "x = Dense(64, activation=\"tanh\")(inp)\n",
        "x = Dense(64, activation=\"tanh\")(x)\n",
        "\n",
        "out = Dense(2)(x)\n",
        "\n",
        "model = Model(inputs=inp, outputs=out)\n",
        "model.summary()"
      ],
      "metadata": {
        "id": "l2miauQ5FAIs",
        "colab": {
          "base_uri": "https://localhost:8080/"
        },
        "outputId": "67b7af83-c63d-4035-a823-15566ddc482d"
      },
      "execution_count": 19,
      "outputs": [
        {
          "output_type": "stream",
          "name": "stdout",
          "text": [
            "Model: \"model_2\"\n",
            "_________________________________________________________________\n",
            " Layer (type)                Output Shape              Param #   \n",
            "=================================================================\n",
            " input_3 (InputLayer)        [(None, 1)]               0         \n",
            "                                                                 \n",
            " dense_6 (Dense)             (None, 64)                128       \n",
            "                                                                 \n",
            " dense_7 (Dense)             (None, 64)                4160      \n",
            "                                                                 \n",
            " dense_8 (Dense)             (None, 2)                 130       \n",
            "                                                                 \n",
            "=================================================================\n",
            "Total params: 4,418\n",
            "Trainable params: 4,418\n",
            "Non-trainable params: 0\n",
            "_________________________________________________________________\n"
          ]
        }
      ]
    },
    {
      "cell_type": "code",
      "source": [
        "opt = tf.keras.optimizers.Adam(learning_rate=0.001)\n",
        "\n",
        "model.compile(optimizer=opt , loss=\"mse\")\n",
        "model.fit(x=t, y=target , epochs=1000, batch_size=16)"
      ],
      "metadata": {
        "id": "VlQxHUtlHyBU"
      },
      "execution_count": null,
      "outputs": []
    },
    {
      "cell_type": "code",
      "source": [
        "# prediction q and p Using NN and with test_t \n",
        "test_t = np.arange(0, 2*np.pi, 0.001)\n",
        "prediction = model(test_t).numpy()\n",
        "\n",
        "q = prediction[:,0]\n",
        "p = prediction[:,1]\n",
        "\n",
        "plt.figure(figsize = (4, 4))\n",
        "\n",
        "# NN with mse solition \n",
        "pred_plot(q, p )\n",
        "\n",
        "# Grand truth solution plot\n",
        "grand_truth_plot()\n",
        "\n",
        "plt.show()"
      ],
      "metadata": {
        "colab": {
          "base_uri": "https://localhost:8080/",
          "height": 300
        },
        "id": "DPUxt9RhPuKy",
        "outputId": "ecda517a-c12b-4f04-fe6e-8fd87bad978c"
      },
      "execution_count": 21,
      "outputs": [
        {
          "output_type": "display_data",
          "data": {
            "text/plain": [
              "<Figure size 288x288 with 1 Axes>"
            ],
            "image/png": "[encoded data removed]"
          },
          "metadata": {
            "needs_background": "light"
          }
        }
      ]
    },
    {
      "cell_type": "code",
      "source": [
        "# NN model with Hamiltonian preserved loss\n",
        "inp = Input(shape=(2,))\n",
        "\n",
        "x = Dense(64, activation=\"tanh\")(inp)\n",
        "x = Dense(64, activation=\"tanh\")(x)\n",
        "\n",
        "out = Dense(2)(x)\n",
        "\n",
        "model2 = Model(inputs=inp, outputs=out)"
      ],
      "metadata": {
        "id": "qHIncPoPaowf"
      },
      "execution_count": 22,
      "outputs": []
    },
    {
      "cell_type": "code",
      "source": [
        "def H(z):\n",
        "  return tf.reduce_sum((z**2)/2,axis=1)\n",
        "\n",
        "def custom_loss(y_true, y_pred):\n",
        "  return (1/32) *(y_true - H(y_pred))**2"
      ],
      "metadata": {
        "id": "27hjk_7Oa_vf"
      },
      "execution_count": 23,
      "outputs": []
    },
    {
      "cell_type": "code",
      "source": [
        "# Hamiltonian preserved for initial point and we extend this for all test_t\n",
        "h_0 = np.array([0.5 for i in range(test_t.shape[0])])"
      ],
      "metadata": {
        "id": "U0kjQHvSGQx6"
      },
      "execution_count": 24,
      "outputs": []
    },
    {
      "cell_type": "code",
      "source": [
        "opt = tf.keras.optimizers.Adam(learning_rate=0.001)\n",
        "\n",
        "model2.compile(optimizer=opt, loss=custom_loss)\n",
        "model2.fit(x = prediction, y = h_0, epochs=100, batch_size=32)"
      ],
      "metadata": {
        "id": "gIZsSf2JazhJ"
      },
      "execution_count": null,
      "outputs": []
    },
    {
      "cell_type": "code",
      "source": [
        "test_t = np.arange(0, 2*np.pi, 0.0001)\n",
        "\n",
        "prediction_with_hamiltonian_preserved = model2(model(test_t))\n",
        "\n",
        "q = prediction_with_hamiltonian_preserved[:,0]\n",
        "p = prediction_with_hamiltonian_preserved[:,1]\n",
        "\n",
        "plt.figure(figsize = (4, 4))\n",
        "pred_plot(q=q, p=p)\n",
        "\n",
        "grand_truth_plot()\n",
        "plt.show()"
      ],
      "metadata": {
        "id": "hSGlJ3dnhBYv",
        "outputId": "6c6782f8-171b-4334-c800-db056d1bfc9b",
        "colab": {
          "base_uri": "https://localhost:8080/",
          "height": 300
        }
      },
      "execution_count": 26,
      "outputs": [
        {
          "output_type": "display_data",
          "data": {
            "text/plain": [
              "<Figure size 288x288 with 1 Axes>"
            ],
            "image/png": "[encoded data removed]"
          },
          "metadata": {
            "needs_background": "light"
          }
        }
      ]
    }
  ]
}