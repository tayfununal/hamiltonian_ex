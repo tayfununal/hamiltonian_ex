{
  "nbformat": 4,
  "nbformat_minor": 0,
  "metadata": {
    "colab": {
      "name": "hamiltonian_class.ipynb",
      "provenance": [],
      "authorship_tag": "ABX9TyMHxbL3HQXiHe5v6Lhppl1P",
      "include_colab_link": true
    },
    "kernelspec": {
      "name": "python3",
      "display_name": "Python 3"
    },
    "language_info": {
      "name": "python"
    },
    "gpuClass": "standard"
  },
  "cells": [
    {
      "cell_type": "markdown",
      "metadata": {
        "id": "view-in-github",
        "colab_type": "text"
      },
      "source": [
        "<a href=\"https://colab.research.google.com/github/tayfununal/hamiltonian_ex/blob/main/hamiltonian_class.ipynb\" target=\"_parent\"><img src=\"https://colab.research.google.com/assets/colab-badge.svg\" alt=\"Open In Colab\"/></a>"
      ]
    },
    {
      "cell_type": "code",
      "execution_count": 161,
      "metadata": {
        "id": "e-cuG7vIYX8o"
      },
      "outputs": [],
      "source": [
        "#simplektik euler\n",
        "import numpy as np\n",
        "import matplotlib.pyplot as plt\n",
        "\n",
        "import tensorflow as tf\n",
        "from tensorflow.keras import Input, Model\n",
        "from tensorflow.keras.layers import Dense\n",
        "\n",
        "plt.style.use('seaborn-poster')\n",
        "\n",
        "#np.random.seed(1)\n",
        "#tf.random.set_seed(1)"
      ]
    },
    {
      "cell_type": "code",
      "source": [
        "class Hamiltonian:\n",
        "\n",
        "  def __init__(self, T, V, h=0.01, initial_point=[0., 1.]):\n",
        "    self.T = T\n",
        "    self.V = V\n",
        "    self.h = h\n",
        "    self.initial_point = initial_point\n",
        "\n",
        "    self.z, self.t = self.symplectic_euler()\n",
        "\n",
        "    self.model = self.NN(input =1, output=2, hidden_layer=20, neuron=64, activation=\"relu\", energy_loss=None)\n",
        "    self.model_train = self.train(model=self.model, input=self.t, target=self.z, learning_rate=0.0003, loss=\"mse\", batch_size=100000, epochs=5000)\n",
        "\n",
        "    self.energy_model = self.NN(input= 1,output=2, hidden_layer=20, neuron=64, activation=tf.math.sin, energy_loss=self.custom_loss)\n",
        "        \n",
        "    # Parametreleri atama ve veri arttırma\n",
        "    self.energy_model.set_weights(self.model_train.get_weights())\n",
        "    t_created = np.arange(0, 2*np.pi, 0.0001)\n",
        "    target_created = self.model_train(t_created)\n",
        "\n",
        "    self.energy_model_train = self.train(model=self.energy_model, input=t_created, target=target_created, learning_rate=0.0003, loss=self.custom_loss, batch_size=100000, epochs=5000)\n",
        "  # Hamiltonian Function\n",
        "  def H(self, q, p):\n",
        "    return T(p) + V(q)\n",
        "\n",
        "  # Derivative of Potential Energy\n",
        "  def dV(self, q_0=tf.constant(1.0)):\n",
        "    q_0 = tf.constant(q_0)\n",
        "    with tf.GradientTape() as g:\n",
        "      g.watch(q_0)\n",
        "      y = self.V(q_0)\n",
        "    return g.gradient(y, q_0)\n",
        "\n",
        "  # Derivative of Kinetic Energy\n",
        "  def dT(self, p_0=tf.constant(1.0)):\n",
        "    p_0 = tf.constant(p_0)\n",
        "    with tf.GradientTape() as g:\n",
        "      g.watch(p_0)\n",
        "      y = self.T(p_0)\n",
        "    return g.gradient(y, p_0)\n",
        "\n",
        "  def symplectic_euler(self):\n",
        "\n",
        "    t = np.arange(0, 2*np.pi, self.h)\n",
        "\n",
        "    q = np.zeros(t.shape[0])\n",
        "    p = np.zeros(t.shape[0])\n",
        "\n",
        "    q[0] = self.initial_point[0]\n",
        "    p[0] = self.initial_point[1]\n",
        "    \n",
        "    for i in range(0, t.shape[0]-1):\n",
        "\n",
        "      q[i + 1] = q[i] + self.h * self.dT(p[i])\n",
        "      p[i + 1] = p[i] - self.h * self.dV(q[i+1])\n",
        "    \n",
        "    z = np.concatenate((q.reshape(-1,1), p.reshape(-1,1)) , axis=1)\n",
        "    return z, t\n",
        "\n",
        "  # Neural Network Model\n",
        "  def NN(self, input =1, output=2, hidden_layer=2, neuron=32, activation=\"relu\", energy_loss=None):\n",
        "    # Neural network with MSE loss\n",
        "    np.random.seed(1)\n",
        "    tf.random.set_seed(1)\n",
        "\n",
        "    inp = Input(shape=(input,), name= \"Input_Layer\")\n",
        "    for i in range(0,hidden_layer):\n",
        "      if i == 0:\n",
        "        x = Dense(neuron, activation=activation, name=\"Hidden_Layer_{}\".format(i+1))(inp)\n",
        "      else:\n",
        "        x = Dense(neuron, activation=activation, name=\"Hidden_Layer_{}\".format(i+1))(x)\n",
        "    x = Dense(output, name=\"Ourput_Layer\")(x)\n",
        "    \n",
        "\n",
        "    out = tf.constant([[0.,1.]], dtype=tf.float32) + (1-tf.math.exp(-inp**2)) * x\n",
        "\n",
        "    return Model(inputs=inp, outputs=out)\n",
        "  \n",
        "  # Neural Network Model Compile and Fit\n",
        "  def train(self, model, input, target, learning_rate=0.0003, loss=\"mse\", batch_size=100, epochs=2000):\n",
        "    opt = tf.keras.optimizers.Adam(learning_rate=learning_rate)\n",
        "    model.compile(optimizer=opt, loss=loss)\n",
        "    model.fit(x=input, y=target, epochs=epochs, batch_size=batch_size, shuffle=True, verbose=False)\n",
        "    return model\n",
        "\n",
        "  def custom_loss(self, y_true, y_pred):\n",
        "    return tf.keras.losses.MSE(0.5, self.H(y_pred[None,:,0], y_pred[None, :,1])) +  0.5 * tf.keras.losses.MSE(y_true,y_pred)\n"
      ],
      "metadata": {
        "id": "h9_TxTpzYcwJ"
      },
      "execution_count": 162,
      "outputs": []
    },
    {
      "cell_type": "code",
      "source": [
        "def T(p):\n",
        "  return (p**2)/2\n",
        "\n",
        "def V(q):\n",
        "  return (q**2)/2"
      ],
      "metadata": {
        "id": "kqLbNi7AoxYE"
      },
      "execution_count": 163,
      "outputs": []
    },
    {
      "cell_type": "code",
      "source": [
        "hamiltonian = Hamiltonian(T, V)"
      ],
      "metadata": {
        "id": "KdS88PvoYcys"
      },
      "execution_count": 164,
      "outputs": []
    },
    {
      "cell_type": "code",
      "source": [
        "def grand_truth_plot(h = 0.3):\n",
        "  t = np.arange(0,2*np.pi,h)\n",
        "  q = np.sin(t)\n",
        "  p = np.cos(t)\n",
        "  plt.scatter(q,p)\n",
        "\n",
        "def pred_plot(q, p):\n",
        "  plt.plot(q[:, ], p[:,], c = \"red\")\n",
        "  plt.xlabel('q', fontsize=17,fontweight=\"bold\",fontname=\"Times New Roman\")\n",
        "  plt.ylabel('p', fontsize=17,fontweight=\"bold\",fontname=\"Times New Roman\")\n",
        "  plt.title(\"Phase Diagram\", fontsize=17,fontweight=\"bold\",fontname=\"Times New Roman\")"
      ],
      "metadata": {
        "id": "rgfHg2xKYc8P"
      },
      "execution_count": 165,
      "outputs": []
    },
    {
      "cell_type": "code",
      "source": [
        "test_t = np.arange(0, 2*np.pi, 0.001)\n",
        "prediction_energy = hamiltonian.energy_model_train(test_t)\n",
        "\n",
        "q_energy = prediction_energy[:,0]\n",
        "p_energy = prediction_energy[:,1]\n",
        "\n",
        "plt.figure(figsize = (4, 4))\n",
        "\n",
        "# NN with mse solition \n",
        "pred_plot(q_energy, p_energy )\n",
        "\n",
        "# Grand truth solution plot\n",
        "grand_truth_plot()\n",
        "\n",
        "plt.show()"
      ],
      "metadata": {
        "colab": {
          "base_uri": "https://localhost:8080/",
          "height": 320
        },
        "id": "iDooXdldYc-f",
        "outputId": "e51ddce6-c3d3-4789-987f-7154ff626dce"
      },
      "execution_count": 166,
      "outputs": [
        {
          "output_type": "display_data",
          "data": {
            "text/plain": [
              "<Figure size 288x288 with 1 Axes>"
            ],
            "image/png": "[encoded data removed]"
          },
          "metadata": {
            "needs_background": "light"
          }
        }
      ]
    },
    {
      "cell_type": "code",
      "source": [
        ""
      ],
      "metadata": {
        "id": "R9-PAK_3YdOZ"
      },
      "execution_count": 166,
      "outputs": []
    }
  ]
}