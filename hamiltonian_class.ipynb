{
  "nbformat": 4,
  "nbformat_minor": 0,
  "metadata": {
    "colab": {
      "name": "hamiltonian_class.ipynb",
      "private_outputs": true,
      "provenance": [],
      "authorship_tag": "ABX9TyMP/MKnhFZkXJ7CnDac8hzi",
      "include_colab_link": true
    },
    "kernelspec": {
      "name": "python3",
      "display_name": "Python 3"
    },
    "language_info": {
      "name": "python"
    }
  },
  "cells": [
    {
      "cell_type": "markdown",
      "metadata": {
        "id": "view-in-github",
        "colab_type": "text"
      },
      "source": [
        "<a href=\"https://colab.research.google.com/github/tayfununal/hamiltonian_ex/blob/main/hamiltonian_class.ipynb\" target=\"_parent\"><img src=\"https://colab.research.google.com/assets/colab-badge.svg\" alt=\"Open In Colab\"/></a>"
      ]
    },
    {
      "cell_type": "code",
      "execution_count": null,
      "metadata": {
        "id": "e-cuG7vIYX8o"
      },
      "outputs": [],
      "source": [
        "#simplektik euler\n",
        "import numpy as np\n",
        "import matplotlib.pyplot as plt\n",
        "\n",
        "import tensorflow as tf\n",
        "from tensorflow.keras import Input, Model\n",
        "from tensorflow.keras.layers import Dense\n",
        "\n",
        "plt.style.use('seaborn-poster')\n",
        "\n",
        "#np.random.seed(1)\n",
        "#tf.random.set_seed(1)"
      ]
    },
    {
      "cell_type": "code",
      "source": [
        "class Hamiltonian:\n",
        "\n",
        "  def __init__(self, T, V, h=0.01, initial_point=[0., 1.]):\n",
        "    self.T = T\n",
        "    self.V = V\n",
        "    self.h = h\n",
        "    self.initial_point = initial_point\n",
        "\n",
        "    self.z, self.t = self.symplectic_euler()\n",
        "    self.model = self.NN(input =1, output=2, hidden_layer=2, neuron=32, activation=\"relu\", energy_loss=None)\n",
        "\n",
        "    self.model_with_mse = self.model(input= 1,output=2, hidden_layer=20, neuron=64, activation=tf.math.sin)\n",
        "    self.model_train = self.train(model=self.model_with_mse, input=self.t, target=self.z, learning_rate=0.0003, loss=\"mse\", batch_size=100, epochs=1000)\n",
        "  \n",
        "  # Hamiltonian Function\n",
        "  def H(q,p):\n",
        "    return T(p) + V(q)\n",
        "\n",
        "  # Derivative of Potential Energy\n",
        "  def dV(self, q_0=tf.constant(1.0)):\n",
        "    q_0 = tf.constant(q_0)\n",
        "    with tf.GradientTape() as g:\n",
        "      g.watch(q_0)\n",
        "      y = self.V(q_0)\n",
        "    return g.gradient(y, q_0)\n",
        "\n",
        "  # Derivative of Kinetic Energy\n",
        "  def dT(self, p_0=tf.constant(1.0)):\n",
        "    p_0 = tf.constant(p_0)\n",
        "    with tf.GradientTape() as g:\n",
        "      g.watch(p_0)\n",
        "      y = self.T(p_0)\n",
        "    return g.gradient(y, p_0)\n",
        "\n",
        "  def symplectic_euler(self):\n",
        "\n",
        "    t = np.arange(0, 2*np.pi, self.h)\n",
        "\n",
        "    q = np.zeros(t.shape[0])\n",
        "    p = np.zeros(t.shape[0])\n",
        "\n",
        "    q[0] = self.initial_point[0]\n",
        "    p[0] = self.initial_point[1]\n",
        "    \n",
        "    for i in range(0, t.shape[0]-1):\n",
        "\n",
        "      q[i + 1] = q[i] + self.h * self.dT(p[i])\n",
        "      p[i + 1] = p[i] - self.h * self.dV(q[i+1])\n",
        "    \n",
        "    z = np.concatenate((q.reshape(-1,1), p.reshape(-1,1)) , axis=1)\n",
        "    return z, t\n",
        "\n",
        "  # Neural Network Model\n",
        "  def NN(self, input =1, output=2, hidden_layer=2, neuron=32, activation=\"relu\", energy_loss=None):\n",
        "    # Neural network with MSE loss\n",
        "    np.random.seed(1)\n",
        "    tf.random.set_seed(1)\n",
        "\n",
        "    inp = Input(shape=(input,), name= \"Input_Layer\")\n",
        "    for i in range(0,hidden_layer):\n",
        "      if i == 0:\n",
        "        x = Dense(neuron, activation=activation, name=\"Hidden_Layer_{}\".format(i+1))(inp)\n",
        "      else:\n",
        "        x = Dense(neuron, activation=activation, name=\"Hidden_Layer_{}\".format(i+1))(x)\n",
        "    x = Dense(output, name=\"Ourput_Layer\")(x)\n",
        "    \n",
        "\n",
        "    out = tf.constant([[0.,1.]], dtype=tf.float32) + (1-tf.math.exp(-inp**2)) * x\n",
        "\n",
        "    return Model(inputs=inp, outputs=out)\n",
        "  \n",
        "  # Neural Network Model Compile and Fit\n",
        "  def train(self, model, input, target, learning_rate=0.0003, loss=\"mse\", batch_size=100, epochs=2000):\n",
        "    opt = tf.keras.optimizers.Adam(learning_rate=learning_rate)\n",
        "    model.compile(optimizer=opt, loss=loss)\n",
        "    model.fit(x=input, y=target, epochs=epochs, batch_size=batch_size, shuffle=True)\n",
        "    return model\n"
      ],
      "metadata": {
        "id": "h9_TxTpzYcwJ"
      },
      "execution_count": null,
      "outputs": []
    },
    {
      "cell_type": "code",
      "source": [
        "def T(p):\n",
        "  return (p**2)/2\n",
        "\n",
        "def V(q):\n",
        "  return (q**2)/2"
      ],
      "metadata": {
        "id": "kqLbNi7AoxYE"
      },
      "execution_count": null,
      "outputs": []
    },
    {
      "cell_type": "code",
      "source": [
        "result = Hamiltonian(T, V)"
      ],
      "metadata": {
        "id": "KdS88PvoYcys"
      },
      "execution_count": null,
      "outputs": []
    },
    {
      "cell_type": "code",
      "source": [
        "result.model.weights"
      ],
      "metadata": {
        "id": "VFfCdyrxYc3r"
      },
      "execution_count": null,
      "outputs": []
    },
    {
      "cell_type": "code",
      "source": [
        ""
      ],
      "metadata": {
        "id": "9MfIRTZRYc6B"
      },
      "execution_count": null,
      "outputs": []
    },
    {
      "cell_type": "code",
      "source": [
        ""
      ],
      "metadata": {
        "id": "rgfHg2xKYc8P"
      },
      "execution_count": null,
      "outputs": []
    },
    {
      "cell_type": "code",
      "source": [
        ""
      ],
      "metadata": {
        "id": "iDooXdldYc-f"
      },
      "execution_count": null,
      "outputs": []
    },
    {
      "cell_type": "code",
      "source": [
        ""
      ],
      "metadata": {
        "id": "h02GPnUfYdA-"
      },
      "execution_count": null,
      "outputs": []
    },
    {
      "cell_type": "code",
      "source": [
        ""
      ],
      "metadata": {
        "id": "sGM46ff9YdDZ"
      },
      "execution_count": null,
      "outputs": []
    },
    {
      "cell_type": "code",
      "source": [
        ""
      ],
      "metadata": {
        "id": "1FgPjUiBYdFX"
      },
      "execution_count": null,
      "outputs": []
    },
    {
      "cell_type": "code",
      "source": [
        ""
      ],
      "metadata": {
        "id": "_kaVf0DGYdHZ"
      },
      "execution_count": null,
      "outputs": []
    },
    {
      "cell_type": "code",
      "source": [
        ""
      ],
      "metadata": {
        "id": "2m7O4YU2YdJ6"
      },
      "execution_count": null,
      "outputs": []
    },
    {
      "cell_type": "code",
      "source": [
        ""
      ],
      "metadata": {
        "id": "l0v02XhYYdMA"
      },
      "execution_count": null,
      "outputs": []
    },
    {
      "cell_type": "code",
      "source": [
        ""
      ],
      "metadata": {
        "id": "R9-PAK_3YdOZ"
      },
      "execution_count": null,
      "outputs": []
    }
  ]
}