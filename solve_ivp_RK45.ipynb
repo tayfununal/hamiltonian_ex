{
  "nbformat": 4,
  "nbformat_minor": 0,
  "metadata": {
    "colab": {
      "name": "solve_ivp_RK45.ipynb",
      "private_outputs": true,
      "provenance": [],
      "authorship_tag": "ABX9TyNBUaI9w2CD3AlQoY+Z3dBB",
      "include_colab_link": true
    },
    "kernelspec": {
      "name": "python3",
      "display_name": "Python 3"
    },
    "language_info": {
      "name": "python"
    }
  },
  "cells": [
    {
      "cell_type": "markdown",
      "metadata": {
        "id": "view-in-github",
        "colab_type": "text"
      },
      "source": [
        "<a href=\"https://colab.research.google.com/github/tayfununal/hamiltonian_ex/blob/main/solve_ivp_RK45.ipynb\" target=\"_parent\"><img src=\"https://colab.research.google.com/assets/colab-badge.svg\" alt=\"Open In Colab\"/></a>"
      ]
    },
    {
      "cell_type": "code",
      "execution_count": null,
      "metadata": {
        "id": "kYTlM9kGdcR9"
      },
      "outputs": [],
      "source": [
        "# Ode solver için gerekli kütüphaneler\n",
        "import matplotlib.pyplot as plt\n",
        "import numpy as np\n",
        "from scipy.integrate import solve_ivp\n",
        "\n",
        "# Deep learning için gerekli kütüphaneler \n",
        "import tensorflow as tf\n",
        "from tensorflow.keras import Input, Model\n",
        "from tensorflow.keras.layers import Dense\n",
        "\n",
        "plt.style.use('seaborn-poster')\n",
        "\n",
        "%matplotlib inline\n",
        "\"\"\"\n",
        "def F(t,s):       # Diff eq F(t,s) = 0\n",
        "  return [np.cos(t), -np.sin(t)]\n",
        "\"\"\"\n",
        "#tf.random.set_seed(39)\n",
        "#np.random.seed(39)\n",
        "\n",
        "initial_state = [1., 0.]                  # t0 anındaki başlangıç değerleri\n",
        "t_starting_and_last = [0, 2*np.pi]        # Fonksiyonun tanımlı olacağı alanın başlangıç ve bitiş noktasını tanımlıyoruz.\n",
        "t_eval = np.arange(0, 2*np.pi, 0.5)      # t_starting_and_last ile belirlediğimiz aralıkta hesaplanacak t değerlerini bu şekilde girebiliriz, hiçbirşey girilmez ise default olarak kendisi parçalıyor.\n",
        "\n",
        "def F(t,y):       # Diff eq F(t,s) = 0\n",
        "  return [y[1], -y[0]]\n",
        "\n",
        "sol = solve_ivp(fun= F, t_span= t_starting_and_last, y0= initial_state, t_eval= t_eval, dense_output=True)\n",
        "\n",
        "q = sol.y[0]\n",
        "p = sol.y[1]\n",
        "t = sol.t"
      ]
    },
    {
      "cell_type": "code",
      "source": [
        "plt.figure(figsize = (8, 8))\n",
        "\n",
        "plt.subplot(221)\n",
        "plt.plot(t, q)\n",
        "plt.xlabel('t')\n",
        "plt.ylabel('q = cos(t)')\n",
        "\n",
        "plt.subplot(222)\n",
        "plt.plot(t, q - np.cos(t))\n",
        "plt.xlabel('t')\n",
        "plt.ylabel('q - cos(t)')\n",
        "\n",
        "plt.subplot(223)\n",
        "plt.plot(t, p)\n",
        "plt.xlabel('t')\n",
        "plt.ylabel('p = sin(t)')\n",
        "\n",
        "plt.subplot(224)\n",
        "plt.plot(t, p + np.sin(t))\n",
        "plt.xlabel('t')\n",
        "plt.ylabel('p + sin(t)')\n",
        "\n",
        "plt.tight_layout()\n",
        "plt.show()"
      ],
      "metadata": {
        "id": "uRDcwLqceHYW"
      },
      "execution_count": null,
      "outputs": []
    },
    {
      "cell_type": "code",
      "source": [
        "def grand_truth_plot(h = 0.1):\n",
        "  t = np.arange(0,2*np.pi,0.3)\n",
        "  q = np.cos(t)\n",
        "  p = np.sin(t)\n",
        "  plt.scatter(q,p)\n",
        "\n",
        "def pred_plot(q, p):\n",
        "  plt.plot(q[:, ], p[:,], c = \"red\")\n",
        "  plt.xlabel('q')\n",
        "  plt.ylabel('p')"
      ],
      "metadata": {
        "id": "gSDISMxxeBCq"
      },
      "execution_count": null,
      "outputs": []
    },
    {
      "cell_type": "code",
      "source": [
        "plt.figure(figsize = (4, 4))\n",
        "\n",
        "pred_plot(q=q, p=p)\n",
        "grand_truth_plot()\n",
        "\n",
        "plt.show()"
      ],
      "metadata": {
        "id": "qMIJtSDoh_TJ"
      },
      "execution_count": null,
      "outputs": []
    },
    {
      "cell_type": "code",
      "source": [
        "target = np.concatenate((q.reshape(-1,1), p.reshape(-1,1)) , axis=1)"
      ],
      "metadata": {
        "id": "s8nnIpeQeHaw"
      },
      "execution_count": null,
      "outputs": []
    },
    {
      "cell_type": "code",
      "source": [
        "inp = Input(shape=(1,))\n",
        "\n",
        "x = Dense(64, activation=\"tanh\")(inp)\n",
        "x = Dense(64, activation=\"tanh\")(x)\n",
        "\n",
        "out = Dense(2)(x)\n",
        "\n",
        "model = Model(inputs=inp, outputs=out)\n",
        "model.summary()"
      ],
      "metadata": {
        "id": "iUV47J-GeHdD"
      },
      "execution_count": null,
      "outputs": []
    },
    {
      "cell_type": "code",
      "source": [
        "opt = tf.keras.optimizers.Adam(learning_rate=0.001)\n",
        "\n",
        "model.compile(optimizer=opt , loss=\"mse\")\n",
        "model.fit(x=t, y=target , epochs=1000, batch_size=16)"
      ],
      "metadata": {
        "id": "jAZZhIIEeHhP"
      },
      "execution_count": null,
      "outputs": []
    },
    {
      "cell_type": "code",
      "source": [
        "# prediction q and p Using NN and with test_t \n",
        "test_t = np.arange(0, 2*np.pi, 0.001)\n",
        "prediction = model(test_t).numpy()\n",
        "\n",
        "q = prediction[:,0]\n",
        "p = prediction[:,1]\n",
        "\n",
        "plt.figure(figsize = (4, 4))\n",
        "\n",
        "# NN with mse solition \n",
        "pred_plot(q, p )\n",
        "\n",
        "# Grand truth solution plot\n",
        "grand_truth_plot()\n",
        "\n",
        "plt.show()"
      ],
      "metadata": {
        "id": "TcemXboIilFy"
      },
      "execution_count": null,
      "outputs": []
    },
    {
      "cell_type": "code",
      "source": [
        "# NN model with Hamiltonian preserved loss\n",
        "inp = Input(shape=(2,))\n",
        "\n",
        "x = Dense(64, activation=\"tanh\")(inp)\n",
        "x = Dense(64, activation=\"tanh\")(x)\n",
        "\n",
        "out = Dense(2)(x)\n",
        "\n",
        "model2 = Model(inputs=inp, outputs=out)"
      ],
      "metadata": {
        "id": "hwezsg3kilsS"
      },
      "execution_count": null,
      "outputs": []
    },
    {
      "cell_type": "code",
      "source": [
        "def H(z):\n",
        "  return tf.reduce_sum((z**2)/2,axis=1)\n",
        "\n",
        "def custom_loss(y_true, y_pred):\n",
        "  return (1/32) *(y_true - H(y_pred))**2"
      ],
      "metadata": {
        "id": "odGTTfTGil3q"
      },
      "execution_count": null,
      "outputs": []
    },
    {
      "cell_type": "code",
      "source": [
        "# Hamiltonian preserved for initial point and we extend this for all test_t\n",
        "h_0 = np.array([0.5 for i in range(test_t.shape[0])])"
      ],
      "metadata": {
        "id": "gx4ZhrIEil8j"
      },
      "execution_count": null,
      "outputs": []
    },
    {
      "cell_type": "code",
      "source": [
        "opt = tf.keras.optimizers.Adam(learning_rate=0.001)\n",
        "\n",
        "model2.compile(optimizer=opt, loss=custom_loss)\n",
        "model2.fit(x = prediction, y = h_0, epochs=100, batch_size=32)"
      ],
      "metadata": {
        "id": "kM4ni36Ciskl"
      },
      "execution_count": null,
      "outputs": []
    },
    {
      "cell_type": "code",
      "source": [
        "test_t = np.arange(0, 2*np.pi, 0.0001)\n",
        "\n",
        "prediction_with_hamiltonian_preserved = model2(model(test_t))\n",
        "\n",
        "q = prediction_with_hamiltonian_preserved[:,0]\n",
        "p = prediction_with_hamiltonian_preserved[:,1]\n",
        "\n",
        "plt.figure(figsize = (4, 4))\n",
        "pred_plot(q=q, p=p)\n",
        "\n",
        "grand_truth_plot()\n",
        "plt.show()"
      ],
      "metadata": {
        "id": "ExHcjhirisnU"
      },
      "execution_count": null,
      "outputs": []
    }
  ]
}