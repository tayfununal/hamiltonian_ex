{
  "nbformat": 4,
  "nbformat_minor": 0,
  "metadata": {
    "colab": {
      "name": "verlet.ipynb",
      "private_outputs": true,
      "provenance": [],
      "authorship_tag": "ABX9TyNVNPa/3Yoxx/+cZp9n3f29",
      "include_colab_link": true
    },
    "kernelspec": {
      "name": "python3",
      "display_name": "Python 3"
    },
    "language_info": {
      "name": "python"
    }
  },
  "cells": [
    {
      "cell_type": "markdown",
      "metadata": {
        "id": "view-in-github",
        "colab_type": "text"
      },
      "source": [
        "<a href=\"https://colab.research.google.com/github/tayfununal/hamiltonian_ex/blob/main/verlet.ipynb\" target=\"_parent\"><img src=\"https://colab.research.google.com/assets/colab-badge.svg\" alt=\"Open In Colab\"/></a>"
      ]
    },
    {
      "cell_type": "code",
      "execution_count": null,
      "metadata": {
        "id": "GzvB4n64afME"
      },
      "outputs": [],
      "source": [
        "#verlet\n",
        "import math\n",
        "import numpy as np\n",
        "import matplotlib.pyplot as plt\n",
        "\n",
        "def verlet(h = 0.05, initial_point=[1., 0.]):\n",
        "  t = np.arange(0, 2*np.pi, h)\n",
        "\n",
        "  qv = np.zeros(t.shape[0])\n",
        "  pv = np.zeros(t.shape[0])\n",
        "\n",
        "  qv[0] = initial_point[0]\n",
        "  pv[0] = initial_point[1]\n",
        "  \n",
        "  for i in range(0 ,t.shape[0]-1):\n",
        "    ara_p = pv[i] - h/2 * qv[i]\n",
        "\n",
        "    qv[i+1] = qv[i] + h * (pv[i] - h/2 * qv[i])\n",
        "\n",
        "    pv[i+1] = ara_p - h/2 * (qv[i] + h * (pv[i] - h/2 * qv[i]))\n",
        "\n",
        "  return qv, pv, t\n",
        "\n",
        "q, p, t = verlet()\n",
        "print(\"q\", q ,\"\\np\", p)"
      ]
    },
    {
      "cell_type": "code",
      "source": [
        "def grand_truth_plot(h = 0.1):\n",
        "  t = np.arange(0,7,0.1)\n",
        "  x = np.cos(t)\n",
        "  y = np.sin(t)\n",
        "  plt.scatter(x,y)\n",
        "\n",
        "def pred_plot(q, p):\n",
        "  plt.plot(p[:, ], q[:,], c = \"red\")\n",
        "  plt.xlabel('q')\n",
        "  plt.ylabel('p')"
      ],
      "metadata": {
        "id": "GRO7gJYXazFC"
      },
      "execution_count": null,
      "outputs": []
    },
    {
      "cell_type": "code",
      "source": [
        "plt.figure(figsize = (4, 4))\n",
        "\n",
        "pred_plot(q=q, p=p)\n",
        "\n",
        "grand_truth_plot()\n",
        "plt.show()"
      ],
      "metadata": {
        "id": "EgUjAcS2anaw"
      },
      "execution_count": null,
      "outputs": []
    }
  ]
}