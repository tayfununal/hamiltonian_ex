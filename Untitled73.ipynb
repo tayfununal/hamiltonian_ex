{
  "nbformat": 4,
  "nbformat_minor": 0,
  "metadata": {
    "colab": {
      "name": "Untitled73.ipynb",
      "private_outputs": true,
      "provenance": [],
      "authorship_tag": "ABX9TyM5MFYaO0762Ds+PH8YwQnz",
      "include_colab_link": true
    },
    "kernelspec": {
      "name": "python3",
      "display_name": "Python 3"
    },
    "language_info": {
      "name": "python"
    }
  },
  "cells": [
    {
      "cell_type": "markdown",
      "metadata": {
        "id": "view-in-github",
        "colab_type": "text"
      },
      "source": [
        "<a href=\"https://colab.research.google.com/github/tayfununal/hamiltonian_ex/blob/main/Untitled73.ipynb\" target=\"_parent\"><img src=\"https://colab.research.google.com/assets/colab-badge.svg\" alt=\"Open In Colab\"/></a>"
      ]
    },
    {
      "cell_type": "code",
      "execution_count": null,
      "metadata": {
        "id": "LFnl6kLVPJ5_"
      },
      "outputs": [],
      "source": [
        "#simplektik euler\n",
        "import numpy as np\n",
        "import matplotlib.pyplot as plt\n",
        "\n",
        "import tensorflow as tf\n",
        "from tensorflow.keras import Input, Model\n",
        "from tensorflow.keras.layers import Dense\n",
        "\n",
        "plt.style.use('seaborn-poster')\n",
        "\n",
        "np.random.seed(1)\n",
        "tf.random.set_seed(1)\n",
        "\n",
        "initial_point= [0., 1.]\n",
        "\n",
        "def symplectic_euler(h=0.01, initial_point= [0., 1.]):\n",
        "\n",
        "    t = np.arange(0, 2*np.pi, h)\n",
        "\n",
        "    q = np.zeros(t.shape[0])\n",
        "    p = np.zeros(t.shape[0])\n",
        "\n",
        "    q[0] = initial_point[0]\n",
        "    p[0] = initial_point[1]\n",
        "    \n",
        "    for i in range(0, t.shape[0]-1):\n",
        "      q[i + 1] = (1-h**2) * q[i] + h * p[i]\n",
        "      p[i + 1] = p[i] - h * q[i]\n",
        "\n",
        "    return q, p, t\n",
        "\n",
        "q , p, t = symplectic_euler()\n",
        "print(\"shape of q :\", q.shape ,\"\\nshape of p:\", p.shape, \"\\nsize of t:\", len(t))"
      ]
    },
    {
      "cell_type": "code",
      "source": [
        "def grand_truth_plot(h = 0.1):\n",
        "  t = np.arange(0,2*np.pi,0.3)\n",
        "  q = np.sin(t)\n",
        "  p = np.cos(t)\n",
        "  plt.scatter(q,p)\n",
        "\n",
        "def pred_plot(q, p):\n",
        "  plt.plot(q[:, ], p[:,], c = \"red\")\n",
        "  plt.xlabel('q')\n",
        "  plt.ylabel('p')"
      ],
      "metadata": {
        "id": "cj-4_nqrPM-m"
      },
      "execution_count": null,
      "outputs": []
    },
    {
      "cell_type": "code",
      "source": [
        "plt.figure(figsize = (4, 4))\n",
        "\n",
        "# Simplectic solution plot\n",
        "pred_plot(q=q, p=p)\n",
        "\n",
        "# Grand truth solution plot\n",
        "grand_truth_plot()\n",
        "plt.show()"
      ],
      "metadata": {
        "id": "gbjuCmnlPOpK"
      },
      "execution_count": null,
      "outputs": []
    },
    {
      "cell_type": "code",
      "source": [
        "target_1 = np.concatenate((q.reshape(-1,1), p.reshape(-1,1)) , axis=1)\n",
        "t_1 = t"
      ],
      "metadata": {
        "id": "Y6exfrwzAGuS"
      },
      "execution_count": null,
      "outputs": []
    },
    {
      "cell_type": "code",
      "source": [
        "target = np.concatenate((q.reshape(-1,1), p.reshape(-1,1)) , axis=1)[1:]\n",
        "t = t[1:]\n",
        "print(target.shape, t.shape)"
      ],
      "metadata": {
        "id": "w5or7GQpPOuQ"
      },
      "execution_count": null,
      "outputs": []
    },
    {
      "cell_type": "code",
      "source": [
        "dt = np.zeros((t.shape[0], 2))\n",
        "for i in range(t.shape[0]):\n",
        "  dt[i,:] = 1/(1-np.exp(-t[i]**2)) * (target[i, :] - np.array([0., 1.]))\n",
        "target = dt"
      ],
      "metadata": {
        "id": "Y4j8EiRexTDl"
      },
      "execution_count": null,
      "outputs": []
    },
    {
      "cell_type": "code",
      "source": [
        "dt.shape"
      ],
      "metadata": {
        "id": "NVp8y2nGuJuh"
      },
      "execution_count": null,
      "outputs": []
    },
    {
      "cell_type": "code",
      "source": [
        "inp = Input(shape=(1,))\n",
        "\n",
        "x = Dense(512, activation=\"tanh\")(inp)\n",
        "x = Dense(512, activation=\"tanh\")(x)\n",
        "\n",
        "out = Dense(2)(x)\n",
        "\n",
        "model = Model(inputs=inp, outputs=out)\n",
        "model.summary()"
      ],
      "metadata": {
        "id": "DO74tQJtPOwj"
      },
      "execution_count": null,
      "outputs": []
    },
    {
      "cell_type": "code",
      "source": [
        "def z(t):\n",
        "  z_1 = np.array([[0.,1.]]) + (1-np.exp(-t**2)).reshape(-1,1) * model(t).numpy()\n",
        "  return z_1\n",
        "\n",
        "def H(z):\n",
        "  return tf.reduce_sum((z**2)/2,axis=1)\n",
        "\n",
        "# import keras.backend as K\n",
        "# K.print_tensor(x,message='x = ')\n",
        "\n",
        "def custom_loss(y_true, y_pred):\n",
        "\n",
        "  return tf.keras.losses.MSE(y_true, y_pred)"
      ],
      "metadata": {
        "id": "lhPxSkE9QfeI"
      },
      "execution_count": null,
      "outputs": []
    },
    {
      "cell_type": "code",
      "source": [
        "class Loss:\n",
        "  sayac=0\n",
        "  def __init__(self, t, batch_size=1):\n",
        "    self.t = t\n",
        "    self.batch_size = batch_size\n",
        "\n",
        "  def custom_loss(self, y_true, y_pred):\n",
        "    mse = tf.keras.losses.mse(y_true, Loss(self.t, self.batch_size).z(self.t, y_pred))\n",
        "    return mse\n",
        "\n",
        "  def z(self, t, y_pred):\n",
        "    f = (1. - tf.math.exp(-t[Loss.sayac*self.batch_size:(Loss.sayac+1)*self.batch_size]))\n",
        "    z = tf.constant([[0.,1.]], dtype=tf.float32) + tf.multiply(tf.cast(f, dtype=tf.float32) , y_pred)\n",
        "    Loss.sayac +=1\n",
        "    self.batch_size = Loss.sayac*self.batch_size\n",
        "    return z"
      ],
      "metadata": {
        "id": "plU_9H-BK3WX"
      },
      "execution_count": null,
      "outputs": []
    },
    {
      "cell_type": "code",
      "source": [
        "opt = tf.keras.optimizers.Adam(learning_rate=0.001)\n",
        "\n",
        "model.compile(optimizer=opt, loss=\"mse\")\n",
        "\n",
        "model.fit(x=t, y=target, epochs=500, batch_size=16)\n",
        "\n",
        "#model = lambda t: initial_point + t * model(t).numpy() # t değiştirilecek f(t)"
      ],
      "metadata": {
        "id": "HdcTrt0JPOzA"
      },
      "execution_count": null,
      "outputs": []
    },
    {
      "cell_type": "code",
      "source": [
        "test_t = np.arange(0, 2*np.pi, 0.001)\n",
        "prediction = z(test_t)\n",
        "\n",
        "q = prediction[:,0]\n",
        "p = prediction[:,1]\n",
        "\n",
        "plt.figure(figsize = (4, 4))\n",
        "\n",
        "# NN with mse solition \n",
        "pred_plot(q, p )\n",
        "\n",
        "# Grand truth solution plot\n",
        "grand_truth_plot()\n",
        "\n",
        "plt.show()"
      ],
      "metadata": {
        "id": "41C4HfIiLWRM"
      },
      "execution_count": null,
      "outputs": []
    },
    {
      "cell_type": "code",
      "source": [
        "np.sin(0.2)"
      ],
      "metadata": {
        "id": "sktoYHe6R2KJ"
      },
      "execution_count": null,
      "outputs": []
    },
    {
      "cell_type": "code",
      "source": [
        "np.cos(0.2)"
      ],
      "metadata": {
        "id": "K6vlSNtq6W8h"
      },
      "execution_count": null,
      "outputs": []
    },
    {
      "cell_type": "code",
      "source": [
        "z(np.array([0.2]))"
      ],
      "metadata": {
        "id": "_rtHlLri8834"
      },
      "execution_count": null,
      "outputs": []
    },
    {
      "cell_type": "code",
      "source": [
        "plt.scatter(t, [0.5 for i in range(t.shape[0])], label=\"Grand truth\")\n",
        "plt.plot(t_1 ,H(target_1), label= \"Simplectic Euler\")\n",
        "plt.plot(np.arange(0, 2*np.pi, 0.001), H(prediction), label= \"NN\")\n",
        "plt.legend(loc=\"upper right\")\n",
        "plt.show()"
      ],
      "metadata": {
        "id": "OlLIhr5gEnqE"
      },
      "execution_count": null,
      "outputs": []
    },
    {
      "cell_type": "code",
      "source": [
        "H(target)"
      ],
      "metadata": {
        "id": "aYfvO-vT96Er"
      },
      "execution_count": null,
      "outputs": []
    }
  ]
}