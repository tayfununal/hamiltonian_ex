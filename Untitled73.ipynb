{
  "nbformat": 4,
  "nbformat_minor": 0,
  "metadata": {
    "colab": {
      "name": "Untitled73.ipynb",
      "private_outputs": true,
      "provenance": [],
      "authorship_tag": "ABX9TyPBp743YHiVCWgHriadZSCd",
      "include_colab_link": true
    },
    "kernelspec": {
      "name": "python3",
      "display_name": "Python 3"
    },
    "language_info": {
      "name": "python"
    }
  },
  "cells": [
    {
      "cell_type": "markdown",
      "metadata": {
        "id": "view-in-github",
        "colab_type": "text"
      },
      "source": [
        "<a href=\"https://colab.research.google.com/github/tayfununal/hamiltonian_ex/blob/main/Untitled73.ipynb\" target=\"_parent\"><img src=\"https://colab.research.google.com/assets/colab-badge.svg\" alt=\"Open In Colab\"/></a>"
      ]
    },
    {
      "cell_type": "code",
      "execution_count": null,
      "metadata": {
        "id": "LFnl6kLVPJ5_"
      },
      "outputs": [],
      "source": [
        "#simplektik euler\n",
        "import numpy as np\n",
        "import matplotlib.pyplot as plt\n",
        "\n",
        "import tensorflow as tf\n",
        "from tensorflow.keras import Input, Model\n",
        "from tensorflow.keras.layers import Dense\n",
        "\n",
        "plt.style.use('seaborn-poster')\n",
        "\n",
        "np.random.seed(1)\n",
        "tf.random.set_seed(1)\n",
        "\n",
        "initial_point= [0., 1.]\n",
        "\n",
        "def symplectic_euler(h=0.1, initial_point= [0., 1.]):\n",
        "\n",
        "    t = np.arange(0, 2*np.pi, h)\n",
        "\n",
        "    q = np.zeros(t.shape[0])\n",
        "    p = np.zeros(t.shape[0])\n",
        "\n",
        "    q[0] = initial_point[0]\n",
        "    p[0] = initial_point[1]\n",
        "    \n",
        "    for i in range(0, t.shape[0]-1):\n",
        "      q[i + 1] = (1-h**2) * q[i] + h * p[i]\n",
        "      p[i + 1] = p[i] - h * q[i]\n",
        "\n",
        "    return q, p, t\n",
        "\n",
        "q , p, t = symplectic_euler()\n",
        "print(\"shape of q :\", q.shape ,\"\\nshape of p:\", p.shape, \"\\nsize of t:\", len(t))"
      ]
    },
    {
      "cell_type": "code",
      "source": [
        "def grand_truth_plot(h = 0.1):\n",
        "  t = np.arange(0,2*np.pi,0.3)\n",
        "  q = np.sin(t)\n",
        "  p = np.cos(t)\n",
        "  plt.scatter(q,p)\n",
        "\n",
        "def pred_plot(q, p):\n",
        "  plt.plot(q[:, ], p[:,], c = \"red\")\n",
        "  plt.xlabel('q')\n",
        "  plt.ylabel('p')"
      ],
      "metadata": {
        "id": "cj-4_nqrPM-m"
      },
      "execution_count": null,
      "outputs": []
    },
    {
      "cell_type": "code",
      "source": [
        "plt.figure(figsize = (4, 4))\n",
        "\n",
        "# Simplectic solution plot\n",
        "pred_plot(q=q, p=p)\n",
        "\n",
        "# Grand truth solution plot\n",
        "grand_truth_plot()\n",
        "plt.show()"
      ],
      "metadata": {
        "id": "gbjuCmnlPOpK"
      },
      "execution_count": null,
      "outputs": []
    },
    {
      "cell_type": "code",
      "source": [
        "target = np.concatenate((q.reshape(-1,1), p.reshape(-1,1)) , axis=1)\n",
        "target.shape"
      ],
      "metadata": {
        "id": "w5or7GQpPOuQ"
      },
      "execution_count": null,
      "outputs": []
    },
    {
      "cell_type": "code",
      "source": [
        "\"\"\"train_x = np.zeros((t.shape[0]-1,3))\n",
        "for i in range(t.shape[0]-1):\n",
        "  girdi = [t[i], q[i], p[i]]\n",
        "  train_x[i] = girdi\"\"\""
      ],
      "metadata": {
        "id": "Y4j8EiRexTDl"
      },
      "execution_count": null,
      "outputs": []
    },
    {
      "cell_type": "code",
      "source": [
        "inp = Input(shape=(1,))\n",
        "\n",
        "x = Dense(64, activation=\"tanh\")(inp)\n",
        "x = Dense(64, activation=\"tanh\")(x)\n",
        "\n",
        "out = Dense(2)(x)\n",
        "\n",
        "model = Model(inputs=inp, outputs=out)\n",
        "model.summary()"
      ],
      "metadata": {
        "id": "DO74tQJtPOwj"
      },
      "execution_count": null,
      "outputs": []
    },
    {
      "cell_type": "code",
      "source": [
        "def z(t):\n",
        "  z_1 = np.array([[0.,1.]]) + (1-np.exp(-t**2)).reshape(-1,1) * model(t).numpy()\n",
        "  return z_1\n",
        "\n",
        "def H(z):\n",
        "  return tf.reduce_sum((z**2)/2,axis=1)\n",
        "\n",
        "def custom_loss(y_true, y_pred):\n",
        "  return tf.keras.losses.MSE(y_true, y_pred) + 1/16*(H(y_true) - H(y_pred))**2"
      ],
      "metadata": {
        "id": "lhPxSkE9QfeI"
      },
      "execution_count": null,
      "outputs": []
    },
    {
      "cell_type": "code",
      "source": [
        "opt = tf.keras.optimizers.Adam(learning_rate=0.01)\n",
        "\n",
        "model.compile(optimizer=opt, loss=custom_loss)\n",
        "\n",
        "model.fit(x=t, y=target, epochs=500, batch_size=16)\n",
        "\n",
        "#model = lambda t: initial_point + t * model(t).numpy() # t değiştirilecek f(t)"
      ],
      "metadata": {
        "id": "HdcTrt0JPOzA"
      },
      "execution_count": null,
      "outputs": []
    },
    {
      "cell_type": "code",
      "source": [
        "# prediction q and p Using NN and with test_t \n",
        "test_t = np.arange(0, 2*np.pi, 0.001)\n",
        "prediction = model(test_t).numpy()\n",
        "\n",
        "#prediction = np.concatenate((np.array([0.,1.]).reshape(-1,2), prediction), axis=0)\n",
        "\n",
        "q = prediction[:,0]\n",
        "p = prediction[:,1]\n",
        "\n",
        "plt.figure(figsize = (4, 4))\n",
        "\n",
        "# NN with mse solition \n",
        "pred_plot(q, p )\n",
        "\n",
        "# Grand truth solution plot\n",
        "grand_truth_plot()\n",
        "\n",
        "plt.show()"
      ],
      "metadata": {
        "id": "F-UXwS1OPgaW"
      },
      "execution_count": null,
      "outputs": []
    },
    {
      "cell_type": "code",
      "source": [
        "prediction = z(test_t)\n",
        "\n",
        "q = prediction[:,0]\n",
        "p = prediction[:,1]\n",
        "\n",
        "plt.figure(figsize = (4, 4))\n",
        "\n",
        "# NN with mse solition \n",
        "pred_plot(q, p )\n",
        "\n",
        "# Grand truth solution plot\n",
        "grand_truth_plot()\n",
        "\n",
        "plt.show()"
      ],
      "metadata": {
        "id": "41C4HfIiLWRM"
      },
      "execution_count": null,
      "outputs": []
    },
    {
      "cell_type": "code",
      "source": [
        "np.sin(0.3)"
      ],
      "metadata": {
        "id": "sktoYHe6R2KJ"
      },
      "execution_count": null,
      "outputs": []
    },
    {
      "cell_type": "code",
      "source": [
        "np.cos(0.3)"
      ],
      "metadata": {
        "id": "K6vlSNtq6W8h"
      },
      "execution_count": null,
      "outputs": []
    },
    {
      "cell_type": "code",
      "source": [
        "z(np.array([0]))"
      ],
      "metadata": {
        "id": "_rtHlLri8834"
      },
      "execution_count": null,
      "outputs": []
    },
    {
      "cell_type": "code",
      "source": [
        "model(np.array([0]))"
      ],
      "metadata": {
        "id": "6uyi02qxTRQL"
      },
      "execution_count": null,
      "outputs": []
    },
    {
      "cell_type": "code",
      "source": [
        "a = np.zeros((t.shape[0],2))\n",
        "for i in range(t.shape[0]):\n",
        "  a[i,:2] = z(t= t[i])"
      ],
      "metadata": {
        "id": "wucgCJzBR48p"
      },
      "execution_count": null,
      "outputs": []
    },
    {
      "cell_type": "code",
      "source": [
        "q = a[:,0]\n",
        "p = a[:,1]\n",
        "\n",
        "plt.figure(figsize = (4, 4))\n",
        "\n",
        "# NN with mse solition \n",
        "pred_plot(q, p )\n",
        "\n",
        "# Grand truth solution plot\n",
        "grand_truth_plot()\n",
        "\n",
        "plt.show()"
      ],
      "metadata": {
        "id": "yODLXKc8THPH"
      },
      "execution_count": null,
      "outputs": []
    },
    {
      "cell_type": "code",
      "source": [
        "model(np.array([0.]))"
      ],
      "metadata": {
        "id": "AiVlAbfGfitZ"
      },
      "execution_count": null,
      "outputs": []
    },
    {
      "cell_type": "code",
      "source": [
        ""
      ],
      "metadata": {
        "id": "ccEniqsJfmHD"
      },
      "execution_count": null,
      "outputs": []
    }
  ]
}