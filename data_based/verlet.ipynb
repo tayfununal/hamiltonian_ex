{
  "nbformat": 4,
  "nbformat_minor": 0,
  "metadata": {
    "colab": {
      "name": "verlet.ipynb",
      "private_outputs": true,
      "provenance": [],
      "authorship_tag": "ABX9TyM5zDwxyK4Zvn08YcNOXY8z",
      "include_colab_link": true
    },
    "kernelspec": {
      "name": "python3",
      "display_name": "Python 3"
    },
    "language_info": {
      "name": "python"
    }
  },
  "cells": [
    {
      "cell_type": "markdown",
      "metadata": {
        "id": "view-in-github",
        "colab_type": "text"
      },
      "source": [
        "<a href=\"https://colab.research.google.com/github/tayfununal/hamiltonian_ex/blob/main/verlet.ipynb\" target=\"_parent\"><img src=\"https://colab.research.google.com/assets/colab-badge.svg\" alt=\"Open In Colab\"/></a>"
      ]
    },
    {
      "cell_type": "code",
      "execution_count": null,
      "metadata": {
        "id": "GzvB4n64afME"
      },
      "outputs": [],
      "source": [
        "#verlet\n",
        "import math\n",
        "import numpy as np\n",
        "import matplotlib.pyplot as plt\n",
        "\n",
        "plt.style.use('seaborn-poster')\n",
        "\n",
        "def verlet(h = 0.5, initial_point=[0., 1.]):\n",
        "  t = np.arange(0, 2*np.pi, h)\n",
        "\n",
        "  qv = np.zeros(t.shape[0])\n",
        "  pv = np.zeros(t.shape[0])\n",
        "\n",
        "  qv[0] = initial_point[0]\n",
        "  pv[0] = initial_point[1]\n",
        "  \n",
        "  for i in range(0 ,t.shape[0]-1):\n",
        "    ara_p = pv[i] - h/2 * qv[i]\n",
        "\n",
        "    qv[i+1] = qv[i] + h * (pv[i] - h/2 * qv[i])\n",
        "\n",
        "    pv[i+1] = ara_p - h/2 * (qv[i] + h * (pv[i] - h/2 * qv[i]))\n",
        "\n",
        "  return qv, pv, t\n",
        "\n",
        "q, p, t = verlet()\n",
        "#print(\"q\", q ,\"\\np\", p)"
      ]
    },
    {
      "cell_type": "code",
      "source": [
        "def grand_truth_plot(h = 0.1):\n",
        "  t = np.arange(0,2*np.pi,0.3)\n",
        "  q = np.sin(t)\n",
        "  p = np.cos(t)\n",
        "  plt.scatter(q,p)\n",
        "\n",
        "def pred_plot(q, p):\n",
        "  plt.plot(q[:, ], p[:,], c = \"red\")\n",
        "  plt.xlabel('q')\n",
        "  plt.ylabel('p')"
      ],
      "metadata": {
        "id": "GRO7gJYXazFC"
      },
      "execution_count": null,
      "outputs": []
    },
    {
      "cell_type": "code",
      "source": [
        "plt.figure(figsize = (4, 4))\n",
        "\n",
        "pred_plot(q=q, p=p)\n",
        "\n",
        "grand_truth_plot()\n",
        "plt.show()"
      ],
      "metadata": {
        "id": "EgUjAcS2anaw"
      },
      "execution_count": null,
      "outputs": []
    },
    {
      "cell_type": "code",
      "source": [
        "import tensorflow as tf\n",
        "from tensorflow.keras import Input, Model\n",
        "from tensorflow.keras.layers import Dense"
      ],
      "metadata": {
        "id": "nmDgP0hqlTMm"
      },
      "execution_count": null,
      "outputs": []
    },
    {
      "cell_type": "code",
      "source": [
        "target = np.concatenate((q.reshape(-1,1), p.reshape(-1,1)) , axis=1)"
      ],
      "metadata": {
        "id": "7UNV2y2mj2Ei"
      },
      "execution_count": null,
      "outputs": []
    },
    {
      "cell_type": "code",
      "source": [
        "inp = Input(shape=(1,))\n",
        "\n",
        "x = Dense(64, activation=\"tanh\")(inp)\n",
        "x = Dense(64, activation=\"tanh\")(x)\n",
        "\n",
        "out = Dense(2)(x)\n",
        "\n",
        "model = Model(inputs=inp, outputs=out)\n",
        "model.summary()"
      ],
      "metadata": {
        "id": "faNKAA08j2H8"
      },
      "execution_count": null,
      "outputs": []
    },
    {
      "cell_type": "code",
      "source": [
        "opt = tf.keras.optimizers.Adam(learning_rate=0.001)\n",
        "\n",
        "model.compile(optimizer=opt , loss=\"mse\")\n",
        "model.fit(x=t, y=target , epochs=1000, batch_size=16)"
      ],
      "metadata": {
        "id": "8mvxNEkmj2K4"
      },
      "execution_count": null,
      "outputs": []
    },
    {
      "cell_type": "code",
      "source": [
        "# prediction q and p Using NN and with test_t \n",
        "test_t = np.arange(0, 2*np.pi, 0.001)\n",
        "prediction = model(test_t).numpy()\n",
        "\n",
        "q = prediction[:,0]\n",
        "p = prediction[:,1]\n",
        "\n",
        "plt.figure(figsize = (4, 4))\n",
        "\n",
        "# NN with mse solition \n",
        "pred_plot(q, p )\n",
        "\n",
        "# Grand truth solution plot\n",
        "grand_truth_plot()\n",
        "\n",
        "plt.show()"
      ],
      "metadata": {
        "id": "2HstJelRj2N_"
      },
      "execution_count": null,
      "outputs": []
    },
    {
      "cell_type": "code",
      "source": [
        "# NN model with Hamiltonian preserved loss\n",
        "inp = Input(shape=(2,))\n",
        "\n",
        "x = Dense(64, activation=\"tanh\")(inp)\n",
        "x = Dense(64, activation=\"tanh\")(x)\n",
        "\n",
        "out = Dense(2)(x)\n",
        "\n",
        "model2 = Model(inputs=inp, outputs=out)"
      ],
      "metadata": {
        "id": "RyS_gw-0j2Qo"
      },
      "execution_count": null,
      "outputs": []
    },
    {
      "cell_type": "code",
      "source": [
        "def H(z):\n",
        "  return tf.reduce_sum((z**2)/2,axis=1)\n",
        "\n",
        "def custom_loss(y_true, y_pred):\n",
        "  return (1/32) *(y_true - H(y_pred))**2"
      ],
      "metadata": {
        "id": "EUzGXXfNj2Tb"
      },
      "execution_count": null,
      "outputs": []
    },
    {
      "cell_type": "code",
      "source": [
        "# Hamiltonian preserved for initial point and we extend this for all test_t\n",
        "h_0 = np.array([0.5 for i in range(test_t.shape[0])])"
      ],
      "metadata": {
        "id": "sNpvBuXEj2WF"
      },
      "execution_count": null,
      "outputs": []
    },
    {
      "cell_type": "code",
      "source": [
        "opt = tf.keras.optimizers.Adam(learning_rate=0.001)\n",
        "\n",
        "model2.compile(optimizer=opt, loss=custom_loss)\n",
        "model2.fit(x = prediction, y = h_0, epochs=100, batch_size=32)"
      ],
      "metadata": {
        "id": "SYow30gtj2Y3"
      },
      "execution_count": null,
      "outputs": []
    },
    {
      "cell_type": "code",
      "source": [
        "test_t = np.arange(0, 2*np.pi, 0.0001)\n",
        "\n",
        "prediction_with_hamiltonian_preserved = model2(model(test_t))\n",
        "\n",
        "q = prediction_with_hamiltonian_preserved[:,0]\n",
        "p = prediction_with_hamiltonian_preserved[:,1]\n",
        "\n",
        "plt.figure(figsize = (4, 4))\n",
        "pred_plot(q=q, p=p)\n",
        "\n",
        "grand_truth_plot()\n",
        "plt.show()"
      ],
      "metadata": {
        "id": "8QT7eSsQj2bZ"
      },
      "execution_count": null,
      "outputs": []
    },
    {
      "cell_type": "code",
      "source": [
        "plt.figure(figsize=(8,6))\n",
        "plt.scatter(t, [0.5 for i in range(t.shape[0])], label=\"Grand truth\")\n",
        "plt.plot(t ,H(target), label= \"Verlet\")\n",
        "plt.plot(np.arange(0, 2*np.pi, 0.001), H(prediction), label= \"NN\")\n",
        "plt.plot(test_t, H(prediction_with_hamiltonian_preserved), label=\"Hamiltonian NN\")\n",
        "plt.legend(loc=\"upper right\")\n",
        "plt.show()"
      ],
      "metadata": {
        "id": "fJpOsB6Wj2iu"
      },
      "execution_count": null,
      "outputs": []
    }
  ]
}
